{
 "cells": [
  {
   "cell_type": "code",
   "execution_count": 5,
   "id": "ae004cde",
   "metadata": {},
   "outputs": [],
   "source": [
    "import os\n",
    "import openai\n",
    "\n",
    "apikey_path = 'apikey.txt'#读取同文件夹目录的文件\n",
    "with open(apikey_path, 'r') as f:\n",
    "    key = f.read()\n",
    "\n",
    "#连接chatgpt\n",
    "openai.organization = \"org-tCd0A0x7hh3O9EpDr9OiV0Or\" #它用于标识具有访问权限的 OpenAI 组织，大部分情况不需要\n",
    "openai.api_key = key#api访问接口\n",
    "\n",
    "\n",
    "#这个方法用来发送消息\n",
    "def send(model,messages):\n",
    "    a=openai.ChatCompletion.create(\n",
    "        model=model,\n",
    "        messages=messages\n",
    "    )\n",
    "    \n",
    "    return a.choices[0].message.content\n",
    "\n",
    "\n",
    "#这个方法负责把每次的对话记录下来，并且不断循环这个过程\n",
    "def chat(model):\n",
    "    while True:\n",
    "        messages=[]#用于保存对话历史记录，每次发出请求都要把历史记录一起发给chatgpt。聊天越久，记录就会保存的越多。\n",
    "        while True:\n",
    "            content = input(\"You: \")#用户输入的聊天内容\n",
    "            if content.lower() == \"bye\":#如果你输入bye，那么结束对话\n",
    "                 break\n",
    "            messages.append({\"role\":\"user\",\"content\":content})#将用户的发言加入到历史记录中\n",
    "            answer=send(model,messages)#将机器人的发言保存在answer变量中\n",
    "            #print(messages)#可以时时查看聊天历史记录的变化\n",
    "            messages.append({\"role\":\"system\",\"content\":answer})#将机器人的发言加入到历史记录中\n",
    "            #print(messages)\n",
    "            print(\"Chatbot:\", answer)#将机器人的发言打印出来\n",
    "        break"
   ]
  },
  {
   "cell_type": "code",
   "execution_count": 6,
   "id": "e144df36",
   "metadata": {},
   "outputs": [
    {
     "name": "stdout",
     "output_type": "stream",
     "text": [
      "You: So, they still had the 17 piece system on seasonal \\ sale for around $49 in the month of November, about \\ half off, but for some reason (call it price gouging) \\ around the second week of December the prices all went \\ up to about anywhere from between $70-$89 for the same \\ system. And the 11 piece system went up around $10 or \\ so in price also from the earlier sale price of $29. \\ So it looks okay, but if you look at the base, the part \\ where the blade locks into place doesn’t look as good \\ as in previous editions from a few years ago, but I \\ plan to be very gentle with it (example, I crush \\ very hard items like beans, ice, rice, etc. in the \\  blender first then pulverize them in the serving size \\ I want in the blender then switch to the whipping \\ blade for a finer flour, and use the cross cutting blade \\ first when making smoothies, then use the flat blade \\ if I need them finer/less pulpy). Special tip when making \\ smoothies, finely cut and freeze the fruits and \\ vegetables (if using spinach-lightly stew soften the \\  spinach then freeze until ready for use-and if making \\ sorbet, use a small to medium sized food processor) \\  that you plan to use that way you can avoid adding so \\ much ice if at all-when making your smoothie. \\ After about a year, the motor was making a funny noise. \\ I called customer service but the warranty expired \\ already, so I had to buy another one. FYI: The overall \\ quality has gone done in these types of products, so \\ they are kind of counting on brand recognition and \\ consumer loyalty to maintain sales. Got it in about \\ two days.翻译以上\n",
      "Chatbot: 他们仍然在11月季节性折扣中以约49美元的价格销售17件套装，折扣达到了一半，但出于某种原因（可以称之为物价炒作），在12月第二周，同样的系统价格都涨到了70-89美元左右。11件套装的价格也比先前的29美元上涨了约10美元左右。因此，它看起来还不错，但是如果你看底部，刀片锁定的部分不像几年前的早期版本那么好看，但我计划对它非常温柔（例如，我先在搅拌机中将很硬的东西如豆子，冰块，米饭等制成粉末，然后将它们在搅拌机中搅碎成需要的大小，如果需要更细的面粉，则切换到混合刀，如果需要更少的果肉，则首先使用交叉切割刀制作冰沙，然后使用平刀）。制作冰沙的特别提示，将水果和蔬菜切成细小的块并冷冻（如果使用菠菜-轻轻炖软菠菜，然后冷冻，直到使用时-如果制作水果冰沙，则需要使用中小型食品加工机），这样可以避免添加过多的冰，如果需要的话，制作您的冰沙。大约一年后，机器发出奇怪的噪音。我打电话给客户服务，但保修已经过期了，所以我不得不再买一个。FYI：这些产品的整体质量已经下降，因此它们在品牌认可和消费者忠诚度方面依赖于维持销售。两天获得。\n",
      "You: bye\n"
     ]
    }
   ],
   "source": [
    "chat(\"gpt-3.5-turbo\")"
   ]
  },
  {
   "cell_type": "code",
   "execution_count": null,
   "id": "35fd6660",
   "metadata": {},
   "outputs": [],
   "source": [
    "'''\n",
    "允许的命令\n",
    "1分隔符分割指令和处理的文本。\n",
    "2以py列表，json数组，表格，代码的格式返回数据。\n",
    "3规定格式，每一步做什么。\n",
    "4产生文章的情绪。\n",
    "'''"
   ]
  },
  {
   "cell_type": "code",
   "execution_count": null,
   "id": "1ba744dc",
   "metadata": {},
   "outputs": [],
   "source": [
    "'''\n",
    "沟通技巧\n",
    "1把文章总结成要点，关键点。\n",
    "2案例提示。\n",
    "'''"
   ]
  },
  {
   "cell_type": "code",
   "execution_count": null,
   "id": "db2dcdc3",
   "metadata": {},
   "outputs": [],
   "source": [
    "'''\n",
    "批量处理文件\n",
    "列表=[文章1，文章2，文章3]\n",
    "for i in 列表：\n",
    "    prompt=f'''处理指令+待处理的文章 {列表[i]} '''#这样写可以把大括号里的内容衔接到文章中内\n",
    "    发出请求\n",
    "\n",
    "'''"
   ]
  },
  {
   "cell_type": "code",
   "execution_count": null,
   "id": "957fff76",
   "metadata": {},
   "outputs": [],
   "source": []
  }
 ],
 "metadata": {
  "kernelspec": {
   "display_name": "Python 3 (ipykernel)",
   "language": "python",
   "name": "python3"
  },
  "language_info": {
   "codemirror_mode": {
    "name": "ipython",
    "version": 3
   },
   "file_extension": ".py",
   "mimetype": "text/x-python",
   "name": "python",
   "nbconvert_exporter": "python",
   "pygments_lexer": "ipython3",
   "version": "3.10.9"
  }
 },
 "nbformat": 4,
 "nbformat_minor": 5
}
